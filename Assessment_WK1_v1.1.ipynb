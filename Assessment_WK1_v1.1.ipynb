{
 "cells": [
  {
   "cell_type": "markdown",
   "metadata": {},
   "source": [
    "# Investment Analysis Assignment"
   ]
  },
  {
   "cell_type": "markdown",
   "metadata": {},
   "source": [
    "Spark Funds wants to make investments in a few companies. It wants to invest where most other investors are investing. \n",
    "\n",
    "The CEO of Spark Funds wants to understand the global trends in investments so that she can take the investment decisions effectively. \n",
    "\n",
    "Spark Funds has two minor constraints for investments:\n",
    "It wants to invest between 5 to 15 million USD per round of investment\n",
    "It wants to invest only in English-speaking countries because of the ease of communication with the companies it would invest in\n",
    "\n",
    "Business objective: The objective is to identify the best sectors, countries, and a suitable investment type for making investments. The overall strategy is to invest where others are investing, implying that the 'best' sectors and countries are the ones 'where most investors are investing'."
   ]
  },
  {
   "cell_type": "markdown",
   "metadata": {},
   "source": [
    "# Checkpoint 1: Data Cleaning 1"
   ]
  },
  {
   "cell_type": "code",
   "execution_count": 468,
   "metadata": {
    "collapsed": true
   },
   "outputs": [],
   "source": [
    "import pandas as pd\n",
    "rounds2 = pd.read_csv(\"/Users/prageeth/Documents/ML and AI/Assignment1/rounds2.csv\", encoding = \"ISO-8859-1\") \n",
    "### MAC syntax followed for file path"
   ]
  },
  {
   "cell_type": "code",
   "execution_count": 469,
   "metadata": {},
   "outputs": [
    {
     "data": {
      "text/plain": [
       "66338"
      ]
     },
     "execution_count": 469,
     "metadata": {},
     "output_type": "execute_result"
    }
   ],
   "source": [
    "rounds2_company= rounds2['company_permalink'].map(lambda x: x.title())\n",
    "rounds2_company = rounds2_company.map(lambda x: x.lstrip('/Organization/-' ))\n",
    "unique_company_round2=set(list(rounds2_company))\n",
    "len(unique_company_round2)"
   ]
  },
  {
   "cell_type": "code",
   "execution_count": 470,
   "metadata": {
    "collapsed": true
   },
   "outputs": [],
   "source": [
    "companies = pd.read_table(\"/Users/prageeth/Documents/ML and AI/Assignment1/companies.txt\", encoding = \"ISO-8859-1\")\n",
    "### MAC syntax followed for file path"
   ]
  },
  {
   "cell_type": "code",
   "execution_count": 471,
   "metadata": {},
   "outputs": [
    {
     "data": {
      "text/plain": [
       "66336"
      ]
     },
     "execution_count": 471,
     "metadata": {},
     "output_type": "execute_result"
    }
   ],
   "source": [
    "companies_company= companies['permalink'].map(lambda x: x.title())\n",
    "companies_company = companies_company.map(lambda x: x.lstrip('/Organization/-' ))\n",
    "unique_name_companies= set(list(companies_company))\n",
    "len(unique_name_companies)"
   ]
  },
  {
   "cell_type": "code",
   "execution_count": 472,
   "metadata": {},
   "outputs": [
    {
     "name": "stdout",
     "output_type": "stream",
     "text": [
      "7\n"
     ]
    }
   ],
   "source": [
    "print(len(unique_company_round2-unique_name_companies))"
   ]
  },
  {
   "cell_type": "code",
   "execution_count": 473,
   "metadata": {},
   "outputs": [
    {
     "name": "stdout",
     "output_type": "stream",
     "text": [
      "114942\n"
     ]
    }
   ],
   "source": [
    "companies['permalink']= companies['permalink'].map(lambda x:x.title())\n",
    "rounds2['company_permalink']= rounds2['company_permalink'].map(lambda x:x.title())\n",
    "\n",
    "master_frame=pd.merge(rounds2, companies, how='inner',left_on='company_permalink', right_on='permalink')\n",
    "master_frame.drop('permalink',axis=1,inplace=True) ## remove duplicate column of permalink \n",
    "master_frame.to_csv(\"/Users/prageeth/Documents/ML and AI/Assignment1/master_frame.csv\", encoding = \"ISO-8859-1\")\n",
    "Masterinitial=len(master_frame)\n",
    "print(Masterinitial)"
   ]
  },
  {
   "cell_type": "code",
   "execution_count": 474,
   "metadata": {},
   "outputs": [
    {
     "data": {
      "text/plain": [
       "company_permalink           0.00\n",
       "funding_round_permalink     0.00\n",
       "funding_round_type          0.00\n",
       "funding_round_code         72.91\n",
       "funded_at                   0.00\n",
       "raised_amount_usd          17.39\n",
       "name                        0.00\n",
       "homepage_url                5.33\n",
       "category_list               2.96\n",
       "status                      0.00\n",
       "country_code                7.54\n",
       "state_code                  9.52\n",
       "region                      8.84\n",
       "city                        8.84\n",
       "founded_at                 17.85\n",
       "dtype: float64"
      ]
     },
     "execution_count": 474,
     "metadata": {},
     "output_type": "execute_result"
    }
   ],
   "source": [
    "## Identify missing data and renove the same wherever applicable\n",
    "round(100*(master_frame.isnull().sum()/len(master_frame.index)),2)"
   ]
  },
  {
   "cell_type": "code",
   "execution_count": 475,
   "metadata": {},
   "outputs": [
    {
     "name": "stdout",
     "output_type": "stream",
     "text": [
      "company_permalink          0.0\n",
      "funding_round_permalink    0.0\n",
      "funding_round_type         0.0\n",
      "funded_at                  0.0\n",
      "raised_amount_usd          0.0\n",
      "name                       0.0\n",
      "category_list              0.0\n",
      "status                     0.0\n",
      "country_code               0.0\n",
      "dtype: float64\n"
     ]
    }
   ],
   "source": [
    "import numpy as np\n",
    "master_frame=master_frame.drop('funding_round_code',axis=1) ## Remove column 'funding_round_code' as it is not required for further analysis\n",
    "master_frame=master_frame.drop('founded_at',axis=1) ## Remove column 'funding_round_code' as it is not required for further analysis\n",
    "master_frame=master_frame.drop('homepage_url',axis=1) ## Remove column\n",
    "master_frame=master_frame.drop('state_code',axis=1) ## Remove column\n",
    "master_frame=master_frame.drop('region',axis=1) ## Remove column\n",
    "master_frame=master_frame.drop('city',axis=1) ## Remove column\n",
    "master_frame=master_frame[-np.isnan(master_frame['raised_amount_usd'])] ## Remove rows missing data in for 'raised_amount_usd' as this is mandatory for further calculation\n",
    "master_frame=master_frame[-(master_frame['country_code']).isnull()] ## Remove rows missing data in for 'country_code' as this is mandatory for further calculation\n",
    "master_frame=master_frame[-(master_frame['category_list']).isnull()] ## Remove rows missing data in for 'country_code' as this is mandatory for further calculation\n",
    "print(round(100*(master_frame.isnull().sum()/len(master_frame.index)),2))\n",
    "master_frame_all=master_frame\n"
   ]
  },
  {
   "cell_type": "code",
   "execution_count": 476,
   "metadata": {},
   "outputs": [
    {
     "name": "stdout",
     "output_type": "stream",
     "text": [
      "Initial nuber of rows in master_frame dataframe: 114942\n",
      "Final nuber of rows in master_frame dataframe: 88529\n",
      "Percenatge data retaited after data cleansing: 77.02058429468775\n"
     ]
    }
   ],
   "source": [
    "Masterfinal= len(master_frame)\n",
    "print(\"Initial nuber of rows in master_frame dataframe: \"+ str(Masterinitial))\n",
    "print(\"Final nuber of rows in master_frame dataframe: \"+ str(Masterfinal))\n",
    "print(\"Percenatge data retaited after data cleansing: \"+ str(Masterfinal/Masterinitial *100))"
   ]
  },
  {
   "cell_type": "markdown",
   "metadata": {},
   "source": [
    "# Checkpoint 2: Funding Type Analysis"
   ]
  },
  {
   "cell_type": "code",
   "execution_count": 477,
   "metadata": {},
   "outputs": [
    {
     "data": {
      "text/plain": [
       "funding_round_type\n",
       "post_ipo_debt            169451789\n",
       "secondary_market          84438532\n",
       "private_equity            73938486\n",
       "post_ipo_equity           66077058\n",
       "debt_financing            17167653\n",
       "undisclosed               15891661\n",
       "venture                   11724222\n",
       "grant                      4512698\n",
       "product_crowdfunding       1353226\n",
       "convertible_note           1337186\n",
       "angel                       971573\n",
       "seed                        747793\n",
       "equity_crowdfunding         509897\n",
       "non_equity_assistance       480753\n",
       "Name: raised_amount_usd, dtype: int64"
      ]
     },
     "execution_count": 477,
     "metadata": {},
     "output_type": "execute_result"
    }
   ],
   "source": [
    "master_frame.groupby('funding_round_type')['raised_amount_usd'].mean().sort_values(ascending=False).astype(np.int)"
   ]
  },
  {
   "cell_type": "code",
   "execution_count": 478,
   "metadata": {},
   "outputs": [
    {
     "data": {
      "text/plain": [
       "funding_round_type\n",
       "seed                747793\n",
       "angel               971573\n",
       "venture           11724222\n",
       "private_equity    73938486\n",
       "Name: raised_amount_usd, dtype: int64"
      ]
     },
     "execution_count": 478,
     "metadata": {},
     "output_type": "execute_result"
    }
   ],
   "source": [
    "###Calculate the most representative value of the investment amount for each of the four funding types \n",
    "###(venture, angel, seed, and private equity) \n",
    "\n",
    "list_cat=['venture', 'angel', 'seed','private_equity']\n",
    "master_frame=master_frame.loc[master_frame['funding_round_type'].isin(list_cat), :]\n",
    "funding_round_mean=master_frame.groupby('funding_round_type')['raised_amount_usd'].mean().sort_values(ascending =True).astype(np.int)\n",
    "funding_round_mean"
   ]
  },
  {
   "cell_type": "code",
   "execution_count": 479,
   "metadata": {
    "collapsed": true
   },
   "outputs": [],
   "source": [
    "###Identify the investment type and, for further analysis, filter the data so it only contains the chosen investment type\n",
    "## venture is 1.172422e+07 between 5x10^6 and 1.5x10^7 inverstment window\n",
    "list_cat=['venture']   \n",
    "master_frame=master_frame.loc[master_frame['funding_round_type'].isin(list_cat), :]"
   ]
  },
  {
   "cell_type": "markdown",
   "metadata": {},
   "source": [
    "# Checkpoint 3: Country Analysis"
   ]
  },
  {
   "cell_type": "code",
   "execution_count": 480,
   "metadata": {},
   "outputs": [
    {
     "data": {
      "text/html": [
       "<div>\n",
       "<style>\n",
       "    .dataframe thead tr:only-child th {\n",
       "        text-align: right;\n",
       "    }\n",
       "\n",
       "    .dataframe thead th {\n",
       "        text-align: left;\n",
       "    }\n",
       "\n",
       "    .dataframe tbody tr th {\n",
       "        vertical-align: top;\n",
       "    }\n",
       "</style>\n",
       "<table border=\"1\" class=\"dataframe\">\n",
       "  <thead>\n",
       "    <tr style=\"text-align: right;\">\n",
       "      <th></th>\n",
       "      <th>country_code</th>\n",
       "      <th>raised_amount_usd</th>\n",
       "      <th>name</th>\n",
       "    </tr>\n",
       "  </thead>\n",
       "  <tbody>\n",
       "    <tr>\n",
       "      <th>0</th>\n",
       "      <td>USA</td>\n",
       "      <td>420068029342</td>\n",
       "      <td>USA</td>\n",
       "    </tr>\n",
       "    <tr>\n",
       "      <th>1</th>\n",
       "      <td>CHN</td>\n",
       "      <td>39338918773</td>\n",
       "      <td>CHN</td>\n",
       "    </tr>\n",
       "    <tr>\n",
       "      <th>2</th>\n",
       "      <td>GBR</td>\n",
       "      <td>20072813004</td>\n",
       "      <td>GBR</td>\n",
       "    </tr>\n",
       "    <tr>\n",
       "      <th>3</th>\n",
       "      <td>IND</td>\n",
       "      <td>14261508718</td>\n",
       "      <td>IND</td>\n",
       "    </tr>\n",
       "    <tr>\n",
       "      <th>4</th>\n",
       "      <td>CAN</td>\n",
       "      <td>9482217668</td>\n",
       "      <td>CAN</td>\n",
       "    </tr>\n",
       "    <tr>\n",
       "      <th>5</th>\n",
       "      <td>FRA</td>\n",
       "      <td>7226851352</td>\n",
       "      <td>FRA</td>\n",
       "    </tr>\n",
       "    <tr>\n",
       "      <th>6</th>\n",
       "      <td>ISR</td>\n",
       "      <td>6854350477</td>\n",
       "      <td>ISR</td>\n",
       "    </tr>\n",
       "    <tr>\n",
       "      <th>7</th>\n",
       "      <td>DEU</td>\n",
       "      <td>6306921981</td>\n",
       "      <td>DEU</td>\n",
       "    </tr>\n",
       "    <tr>\n",
       "      <th>8</th>\n",
       "      <td>JPN</td>\n",
       "      <td>3167647127</td>\n",
       "      <td>JPN</td>\n",
       "    </tr>\n",
       "  </tbody>\n",
       "</table>\n",
       "</div>"
      ],
      "text/plain": [
       "  country_code  raised_amount_usd name\n",
       "0          USA       420068029342  USA\n",
       "1          CHN        39338918773  CHN\n",
       "2          GBR        20072813004  GBR\n",
       "3          IND        14261508718  IND\n",
       "4          CAN         9482217668  CAN\n",
       "5          FRA         7226851352  FRA\n",
       "6          ISR         6854350477  ISR\n",
       "7          DEU         6306921981  DEU\n",
       "8          JPN         3167647127  JPN"
      ]
     },
     "execution_count": 480,
     "metadata": {},
     "output_type": "execute_result"
    }
   ],
   "source": [
    "###Spark Funds wants to see the top nine countries which have received the highest total funding \n",
    "### (across ALL sectors for the chosen investment type)\n",
    "funding_round=master_frame.groupby('country_code') \n",
    "top9_countries=pd.DataFrame(funding_round['raised_amount_usd'].sum().sort_values(ascending =False).astype(np.int).head(9))\n",
    "top9_countries['name']=top9_countries.index\n",
    "top9_countries.reset_index()"
   ]
  },
  {
   "cell_type": "code",
   "execution_count": 481,
   "metadata": {
    "collapsed": true
   },
   "outputs": [],
   "source": [
    "###For the chosen investment type, make a data frame named top9 with the top nine countries \n",
    "### (based on the total investment amount each country has received)\n",
    "top9_list= top9_countries.name  #### Top nine countries based on investment\n",
    "top9=master_frame.loc[master_frame['country_code'].isin(top9_list), :]\n",
    "master_data_top9=top9"
   ]
  },
  {
   "cell_type": "code",
   "execution_count": 482,
   "metadata": {},
   "outputs": [
    {
     "data": {
      "text/plain": [
       "country_code\n",
       "USA    420068029342\n",
       "GBR     20072813004\n",
       "IND     14261508718\n",
       "Name: raised_amount_usd, dtype: int64"
      ]
     },
     "execution_count": 482,
     "metadata": {},
     "output_type": "execute_result"
    }
   ],
   "source": [
    "top3_english = top9[top9['country_code'].isin(['USA', 'GBR', 'IND'])]\n",
    "top3_english.groupby('country_code')['raised_amount_usd'].sum().sort_values(ascending=False).astype(np.int)\n"
   ]
  },
  {
   "cell_type": "markdown",
   "metadata": {},
   "source": [
    "# Checkpoint 4: Sector Analysis 1"
   ]
  },
  {
   "cell_type": "code",
   "execution_count": 483,
   "metadata": {},
   "outputs": [
    {
     "name": "stderr",
     "output_type": "stream",
     "text": [
      "/Users/prageeth/anaconda/lib/python3.6/site-packages/ipykernel_launcher.py:2: SettingWithCopyWarning: \n",
      "A value is trying to be set on a copy of a slice from a DataFrame.\n",
      "Try using .loc[row_indexer,col_indexer] = value instead\n",
      "\n",
      "See the caveats in the documentation: http://pandas.pydata.org/pandas-docs/stable/indexing.html#indexing-view-versus-copy\n",
      "  \n",
      "/Users/prageeth/anaconda/lib/python3.6/site-packages/ipykernel_launcher.py:3: SettingWithCopyWarning: \n",
      "A value is trying to be set on a copy of a slice from a DataFrame.\n",
      "Try using .loc[row_indexer,col_indexer] = value instead\n",
      "\n",
      "See the caveats in the documentation: http://pandas.pydata.org/pandas-docs/stable/indexing.html#indexing-view-versus-copy\n",
      "  This is separate from the ipykernel package so we can avoid doing imports until\n",
      "/Users/prageeth/anaconda/lib/python3.6/site-packages/ipykernel_launcher.py:4: SettingWithCopyWarning: \n",
      "A value is trying to be set on a copy of a slice from a DataFrame.\n",
      "Try using .loc[row_indexer,col_indexer] = value instead\n",
      "\n",
      "See the caveats in the documentation: http://pandas.pydata.org/pandas-docs/stable/indexing.html#indexing-view-versus-copy\n",
      "  after removing the cwd from sys.path.\n",
      "/Users/prageeth/anaconda/lib/python3.6/site-packages/ipykernel_launcher.py:5: SettingWithCopyWarning: \n",
      "A value is trying to be set on a copy of a slice from a DataFrame.\n",
      "Try using .loc[row_indexer,col_indexer] = value instead\n",
      "\n",
      "See the caveats in the documentation: http://pandas.pydata.org/pandas-docs/stable/indexing.html#indexing-view-versus-copy\n",
      "  \"\"\"\n"
     ]
    }
   ],
   "source": [
    "#### Extract the primary sector of each category list from the category_list column\n",
    "top3_english['category_list']= top3_english['category_list'].astype(str) \n",
    "top3_english['primary_sector']= top3_english['category_list'].str.split(\"|\", 1)\n",
    "top3_english['primary_sector']=top3_english['primary_sector'].str.get(0) \n",
    "top3_english['primary_sector']=top3_english['primary_sector'].str.lower()"
   ]
  },
  {
   "cell_type": "code",
   "execution_count": 484,
   "metadata": {
    "collapsed": true
   },
   "outputs": [],
   "source": [
    "mapping = pd.read_csv(\"/Users/prageeth/Documents/ML and AI/Assignment1/mapping.csv\", encoding = \"ISO-8859-1\")\n",
    "### MAC syntax followed for file path\n",
    "mapping.rename(columns= {\"category_list\":\"primary_sector\"}, inplace=True)\n",
    "mapping['primary_sector']=mapping['primary_sector'].str.lower()\n",
    "mapping['primary_sector']=mapping.primary_sector.astype(str).map(lambda x: x.replace('0','na'))"
   ]
  },
  {
   "cell_type": "code",
   "execution_count": 485,
   "metadata": {
    "collapsed": true
   },
   "outputs": [],
   "source": [
    "mapping = pd.melt(mapping,id_vars=[\"primary_sector\"])\n",
    "mapping = mapping[mapping.value != 0]"
   ]
  },
  {
   "cell_type": "code",
   "execution_count": 486,
   "metadata": {
    "collapsed": true
   },
   "outputs": [],
   "source": [
    "top3_english = pd.merge(top3_english, mapping, how='left', on='primary_sector', indicator=True)\n",
    "top3_english=top3_english.drop('value',axis=1)\n",
    "top3_english=top3_english.drop('_merge',axis=1)\n",
    "top3_english.rename(columns= {\"variable\":\"main_sector\"}, inplace=True)"
   ]
  },
  {
   "cell_type": "markdown",
   "metadata": {},
   "source": [
    "# Checkpoint 5: Sector Analysis 2"
   ]
  },
  {
   "cell_type": "code",
   "execution_count": 487,
   "metadata": {
    "collapsed": true
   },
   "outputs": [],
   "source": [
    "### Create three separate data frames D1, D2 and D3 for each of the three countries containing \n",
    "### the observations of funding type FT falling within the 5-15 million USD range. \n",
    "\n",
    "# lets select all rows whoes investment between 5 and 15 million\n",
    "top3_english = top3_english.drop(top3_english[(top3_english.raised_amount_usd < 5000000)].index)\n",
    "top3_english = top3_english.drop(top3_english[(top3_english.raised_amount_usd > 15000000)].index)\n",
    "master_data_top3=top3_english\n",
    "\n",
    "D1 = top3_english[top3_english['country_code'] == 'USA']\n",
    "D2 = top3_english[top3_english['country_code'] == 'GBR']\n",
    "D3 = top3_english[top3_english['country_code'] == 'IND']"
   ]
  },
  {
   "cell_type": "code",
   "execution_count": 488,
   "metadata": {
    "collapsed": true
   },
   "outputs": [],
   "source": [
    "############# USA related details ######################\n"
   ]
  },
  {
   "cell_type": "code",
   "execution_count": 489,
   "metadata": {},
   "outputs": [
    {
     "data": {
      "text/plain": [
       "12064"
      ]
     },
     "execution_count": 489,
     "metadata": {},
     "output_type": "execute_result"
    }
   ],
   "source": [
    "D1['raised_amount_usd'].count()"
   ]
  },
  {
   "cell_type": "code",
   "execution_count": 490,
   "metadata": {},
   "outputs": [
    {
     "data": {
      "text/plain": [
       "107766584223.0"
      ]
     },
     "execution_count": 490,
     "metadata": {},
     "output_type": "execute_result"
    }
   ],
   "source": [
    "D1['raised_amount_usd'].sum()"
   ]
  },
  {
   "cell_type": "code",
   "execution_count": 491,
   "metadata": {},
   "outputs": [
    {
     "data": {
      "text/plain": [
       "main_sector\n",
       "Others                                     2950\n",
       "Social, Finance, Analytics, Advertising    2714\n",
       "Cleantech / Semiconductors                 2350\n",
       "News, Search and Messaging                 1583\n",
       "Health                                      909\n",
       "Manufacturing                               799\n",
       "Entertainment                               591\n",
       "Automotive & Sports                         167\n",
       "Name: raised_amount_usd, dtype: int64"
      ]
     },
     "execution_count": 491,
     "metadata": {},
     "output_type": "execute_result"
    }
   ],
   "source": [
    "D1.groupby('main_sector')['raised_amount_usd'].count().sort_values(ascending=False)"
   ]
  },
  {
   "cell_type": "code",
   "execution_count": 492,
   "metadata": {},
   "outputs": [
    {
     "data": {
      "text/plain": [
       "company_permalink\n",
       "/Organization/Virtustream            64300000.0\n",
       "/Organization/Capella                54968051.0\n",
       "/Organization/Airtight-Networks      54201907.0\n",
       "/Organization/Decarta                52100000.0\n",
       "/Organization/Black-Duck-Software    51000000.0\n",
       "/Organization/Approva                50100000.0\n",
       "Name: raised_amount_usd, dtype: float64"
      ]
     },
     "execution_count": 492,
     "metadata": {},
     "output_type": "execute_result"
    }
   ],
   "source": [
    "D1[D1.main_sector==\"Others\" ].groupby('company_permalink')['raised_amount_usd'].sum().sort_values(ascending=False).head(6)"
   ]
  },
  {
   "cell_type": "code",
   "execution_count": 493,
   "metadata": {},
   "outputs": [
    {
     "data": {
      "text/plain": [
       "company_permalink\n",
       "/Organization/Shotspotter    67933006.0\n",
       "/Organization/Demandbase     63000000.0\n",
       "/Organization/Intacct        61800000.0\n",
       "/Organization/Netbase        60600000.0\n",
       "/Organization/Lotame         59700000.0\n",
       "/Organization/Firstrain      58344731.0\n",
       "Name: raised_amount_usd, dtype: float64"
      ]
     },
     "execution_count": 493,
     "metadata": {},
     "output_type": "execute_result"
    }
   ],
   "source": [
    "D1[D1.main_sector==\"Social, Finance, Analytics, Advertising\" ].groupby('company_permalink')['raised_amount_usd'].sum().sort_values(ascending=False).head(6)"
   ]
  },
  {
   "cell_type": "code",
   "execution_count": 494,
   "metadata": {
    "collapsed": true
   },
   "outputs": [],
   "source": [
    "############# GBR related details ######################"
   ]
  },
  {
   "cell_type": "code",
   "execution_count": 495,
   "metadata": {},
   "outputs": [
    {
     "data": {
      "text/plain": [
       "621"
      ]
     },
     "execution_count": 495,
     "metadata": {},
     "output_type": "execute_result"
    }
   ],
   "source": [
    "D2['raised_amount_usd'].count()"
   ]
  },
  {
   "cell_type": "code",
   "execution_count": 496,
   "metadata": {},
   "outputs": [
    {
     "data": {
      "text/plain": [
       "5379078691.0"
      ]
     },
     "execution_count": 496,
     "metadata": {},
     "output_type": "execute_result"
    }
   ],
   "source": [
    "D2['raised_amount_usd'].sum()"
   ]
  },
  {
   "cell_type": "code",
   "execution_count": 497,
   "metadata": {},
   "outputs": [
    {
     "data": {
      "text/plain": [
       "main_sector\n",
       "Others                                     147\n",
       "Social, Finance, Analytics, Advertising    133\n",
       "Cleantech / Semiconductors                 130\n",
       "News, Search and Messaging                  73\n",
       "Entertainment                               56\n",
       "Manufacturing                               42\n",
       "Health                                      24\n",
       "Automotive & Sports                         16\n",
       "Name: raised_amount_usd, dtype: int64"
      ]
     },
     "execution_count": 497,
     "metadata": {},
     "output_type": "execute_result"
    }
   ],
   "source": [
    "D2.groupby('main_sector')['raised_amount_usd'].count().sort_values(ascending=False)"
   ]
  },
  {
   "cell_type": "code",
   "execution_count": 498,
   "metadata": {},
   "outputs": [
    {
     "data": {
      "text/plain": [
       "company_permalink\n",
       "/Organization/Electric-Cloud             37000000.0\n",
       "/Organization/Sensage                    36250000.0\n",
       "/Organization/Enigmatic                  32500000.0\n",
       "/Organization/Silverrail-Technologies    29000000.0\n",
       "/Organization/Opencloud                  27972766.0\n",
       "/Organization/Myoptique-Group            27694613.0\n",
       "Name: raised_amount_usd, dtype: float64"
      ]
     },
     "execution_count": 498,
     "metadata": {},
     "output_type": "execute_result"
    }
   ],
   "source": [
    "D2[D2.main_sector==\"Others\" ].groupby('company_permalink')['raised_amount_usd'].sum().sort_values(ascending=False).head(6)"
   ]
  },
  {
   "cell_type": "code",
   "execution_count": 499,
   "metadata": {},
   "outputs": [
    {
     "data": {
      "text/plain": [
       "company_permalink\n",
       "/Organization/Celltick-Technologies    37500000.0\n",
       "/Organization/Mythings                 34000000.0\n",
       "/Organization/Zopa                     32900000.0\n",
       "/Organization/Imagini                  28550000.0\n",
       "/Organization/Marketinvoice            25553007.0\n",
       "/Organization/Sumup                    24293649.0\n",
       "Name: raised_amount_usd, dtype: float64"
      ]
     },
     "execution_count": 499,
     "metadata": {},
     "output_type": "execute_result"
    }
   ],
   "source": [
    "D2[D2.main_sector==\"Social, Finance, Analytics, Advertising\"].groupby('company_permalink')['raised_amount_usd'].sum().sort_values(ascending=False).head(6)"
   ]
  },
  {
   "cell_type": "code",
   "execution_count": 500,
   "metadata": {
    "collapsed": true
   },
   "outputs": [],
   "source": [
    "############# IND related details ######################"
   ]
  },
  {
   "cell_type": "code",
   "execution_count": 501,
   "metadata": {},
   "outputs": [
    {
     "data": {
      "text/plain": [
       "328"
      ]
     },
     "execution_count": 501,
     "metadata": {},
     "output_type": "execute_result"
    }
   ],
   "source": [
    "D3['raised_amount_usd'].count()"
   ]
  },
  {
   "cell_type": "code",
   "execution_count": 502,
   "metadata": {},
   "outputs": [
    {
     "data": {
      "text/plain": [
       "2949543602.0"
      ]
     },
     "execution_count": 502,
     "metadata": {},
     "output_type": "execute_result"
    }
   ],
   "source": [
    "D3['raised_amount_usd'].sum()"
   ]
  },
  {
   "cell_type": "code",
   "execution_count": 503,
   "metadata": {},
   "outputs": [
    {
     "data": {
      "text/plain": [
       "main_sector\n",
       "Others                                     110\n",
       "Social, Finance, Analytics, Advertising     60\n",
       "News, Search and Messaging                  52\n",
       "Entertainment                               33\n",
       "Manufacturing                               21\n",
       "Cleantech / Semiconductors                  20\n",
       "Health                                      19\n",
       "Automotive & Sports                         13\n",
       "Name: raised_amount_usd, dtype: int64"
      ]
     },
     "execution_count": 503,
     "metadata": {},
     "output_type": "execute_result"
    }
   ],
   "source": [
    "D3.groupby('main_sector')['raised_amount_usd'].count().sort_values(ascending=False)"
   ]
  },
  {
   "cell_type": "code",
   "execution_count": 504,
   "metadata": {},
   "outputs": [
    {
     "data": {
      "text/plain": [
       "company_permalink\n",
       "/Organization/Firstcry-Com                         39000000.0\n",
       "/Organization/Myntra                               38000000.0\n",
       "/Organization/Commonfloor                          32900000.0\n",
       "/Organization/Pepperfry-Com                        28000000.0\n",
       "/Organization/Itzcash-Card-Ltd                     25000000.0\n",
       "/Organization/Nxtgen-Data-Center-Cloud-Services    22300000.0\n",
       "Name: raised_amount_usd, dtype: float64"
      ]
     },
     "execution_count": 504,
     "metadata": {},
     "output_type": "execute_result"
    }
   ],
   "source": [
    "D3[D3.main_sector=='Others'].groupby('company_permalink')['raised_amount_usd'].sum().sort_values(ascending=False).head(6)"
   ]
  },
  {
   "cell_type": "code",
   "execution_count": 505,
   "metadata": {},
   "outputs": [
    {
     "data": {
      "text/plain": [
       "company_permalink\n",
       "/Organization/Manthan-Systems               50700000.0\n",
       "/Organization/Komli-Media                   28000000.0\n",
       "/Organization/Shopclues-Com                 25000000.0\n",
       "/Organization/Intarvo                       21900000.0\n",
       "/Organization/Grameen-Financial-Services    21556050.0\n",
       "/Organization/Bankbazaar                    19000000.0\n",
       "Name: raised_amount_usd, dtype: float64"
      ]
     },
     "execution_count": 505,
     "metadata": {},
     "output_type": "execute_result"
    }
   ],
   "source": [
    "D3[D3.main_sector=='Social, Finance, Analytics, Advertising'].groupby('company_permalink')['raised_amount_usd'].sum().sort_values(ascending=False).head(6)"
   ]
  },
  {
   "cell_type": "markdown",
   "metadata": {},
   "source": [
    "# Checkpoint 6: Plots"
   ]
  },
  {
   "cell_type": "code",
   "execution_count": 506,
   "metadata": {
    "collapsed": true
   },
   "outputs": [],
   "source": [
    "import matplotlib.pyplot as plt\n",
    "import seaborn as sns\n",
    "sns.set_style(\"dark\")"
   ]
  },
  {
   "cell_type": "code",
   "execution_count": 507,
   "metadata": {},
   "outputs": [
    {
     "data": {
      "image/png": "[encoded data removed]",
      "text/plain": [
       "<matplotlib.figure.Figure at 0x116757278>"
      ]
     },
     "metadata": {},
     "output_type": "display_data"
    }
   ],
   "source": [
    "## A plot showing the fraction of total investments (globally) in venture, seed, and private equity, \n",
    "## and the average amount of investment in each funding type. This chart should make it clear that \n",
    "## a certain funding type (FT) is best suited for Spark Funds.\n",
    "cat_list=['venture', 'seed','private_equity']\n",
    "chart_one_data=master_frame_all.loc[master_frame_all['funding_round_type'].isin(cat_list), :]\n",
    "data_pie=chart_one_data.pivot_table(values = 'raised_amount_usd',index = ['funding_round_type'], aggfunc = {'sum'})\n",
    "plt.figure(figsize=(15, 8))\n",
    "plt.subplot(121)\n",
    "plt.pie(data_pie, labels=data_pie.index,autopct='%0.2f%%',radius =1)\n",
    "\n",
    "plt.subplot(122)\n",
    "sns.barplot(x='funding_round_type', y='raised_amount_usd', data=chart_one_data).set(xlabel='Funding Type', ylabel='Average Amount in USD')\n",
    "plt.axhline(y=5000000, linewidth=2, color = 'g')\n",
    "plt.axhline(y=15000000, linewidth=2, color = 'r')\n",
    "\n",
    "plt.show()"
   ]
  },
  {
   "cell_type": "code",
   "execution_count": 508,
   "metadata": {},
   "outputs": [
    {
     "data": {
      "image/png": "[encoded data removed]",
      "text/plain": [
       "<matplotlib.figure.Figure at 0x11752b160>"
      ]
     },
     "metadata": {},
     "output_type": "display_data"
    }
   ],
   "source": [
    "###Q1  As per my understaning Checkpoint 2 talks about all 4 including angel, hence using the below graph\n",
    "cat_list=['venture', 'seed','private_equity', 'angel']\n",
    "chart_one_data=master_frame_all.loc[master_frame_all['funding_round_type'].isin(cat_list), :]\n",
    "data_pie=chart_one_data.pivot_table(values = 'raised_amount_usd',index = ['funding_round_type'], aggfunc = {'sum'})\n",
    "plt.figure(figsize=(15, 8))\n",
    "plt.subplot(121)\n",
    "plt.pie(data_pie, labels=data_pie.index,autopct='%0.2f%%',radius =1)\n",
    "\n",
    "plt.subplot(122)\n",
    "sns.barplot(x='funding_round_type', y='raised_amount_usd', data=chart_one_data).set(xlabel='Funding Type', ylabel='Average Amount in USD (x 10^7)')\n",
    "plt.axhline(y=5000000, linewidth=2, color = 'g')\n",
    "plt.axhline(y=15000000, linewidth=2, color = 'r')\n",
    "\n",
    "plt.show()"
   ]
  },
  {
   "cell_type": "code",
   "execution_count": 509,
   "metadata": {},
   "outputs": [
    {
     "data": {
      "image/png": "[encoded data removed]",
      "text/plain": [
       "<matplotlib.figure.Figure at 0x223b31710>"
      ]
     },
     "metadata": {},
     "output_type": "display_data"
    }
   ],
   "source": [
    "##  Q2 A plot showing the top 9 countries against the total amount of investments of funding type FT. \n",
    "## This should make the top 3 countries (Country 1, Country 2, and Country 3)very clear.\n",
    "plt.figure(figsize=(15, 8))\n",
    "sns.barplot(x='country_code', y='raised_amount_usd', data=master_data_top9, estimator=sum).set(xlabel='Top 9 Countries', ylabel='Total Amount in USD (x10^11)')\n",
    "plt.show()"
   ]
  },
  {
   "cell_type": "code",
   "execution_count": 510,
   "metadata": {},
   "outputs": [
    {
     "data": {
      "image/png": "[encoded data removed]",
      "text/plain": [
       "<matplotlib.figure.Figure at 0x224146518>"
      ]
     },
     "metadata": {},
     "output_type": "display_data"
    }
   ],
   "source": [
    "##  Q3 A plot showing the number of investments in the top 3 sectors of the top 3 countries on one chart (for the chosen investment type FT). \n",
    "d1_list=['Others', 'Social, Finance, Analytics, Advertising','Cleantech / Semiconductors']\n",
    "top3_sector_d1=D1.loc[D1['main_sector'].isin(d1_list), :]\n",
    "\n",
    "d2_list=['Others', 'Social, Finance, Analytics, Advertising','Cleantech / Semiconductors']\n",
    "top3_sector_d2=D2.loc[D2['main_sector'].isin(d2_list), :]\n",
    "\n",
    "d3_list=['Others', 'Social, Finance, Analytics, Advertising','News, Search and Messaging']\n",
    "top3_sector_d3=D3.loc[D3['main_sector'].isin(d3_list), :]\n",
    "\n",
    "new_frame=pd.concat([top3_sector_d1,top3_sector_d2,top3_sector_d3])\n",
    "plt.figure(figsize=(15, 8))\n",
    "sns.barplot(y= 'raised_amount_usd', x= 'country_code', hue='main_sector', data=new_frame, estimator=np.sum).set(xlabel='Top 3 Countries', ylabel='Total Amount in USD (x10^10)')\n",
    "plt.show()"
   ]
  },
  {
   "cell_type": "code",
   "execution_count": null,
   "metadata": {
    "collapsed": true
   },
   "outputs": [],
   "source": []
  }
 ],
 "metadata": {
  "kernelspec": {
   "display_name": "Python 3",
   "language": "python",
   "name": "python3"
  },
  "language_info": {
   "codemirror_mode": {
    "name": "ipython",
    "version": 3
   },
   "file_extension": ".py",
   "mimetype": "text/x-python",
   "name": "python",
   "nbconvert_exporter": "python",
   "pygments_lexer": "ipython3",
   "version": "3.6.1"
  }
 },
 "nbformat": 4,
 "nbformat_minor": 2
}
